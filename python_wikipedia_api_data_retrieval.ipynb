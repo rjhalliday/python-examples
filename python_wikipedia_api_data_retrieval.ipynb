{
  "nbformat": 4,
  "nbformat_minor": 0,
  "metadata": {
    "colab": {
      "provenance": [],
      "authorship_tag": "ABX9TyMvVaqBzhHAr4d30lh0w6c2",
      "include_colab_link": true
    },
    "kernelspec": {
      "name": "python3",
      "display_name": "Python 3"
    },
    "language_info": {
      "name": "python"
    }
  },
  "cells": [
    {
      "cell_type": "markdown",
      "metadata": {
        "id": "view-in-github",
        "colab_type": "text"
      },
      "source": [
        "<a href=\"https://colab.research.google.com/github/rjhalliday/python-examples/blob/main/python_wikipedia_api_data_retrieval.ipynb\" target=\"_parent\"><img src=\"https://colab.research.google.com/assets/colab-badge.svg\" alt=\"Open In Colab\"/></a>"
      ]
    },
    {
      "cell_type": "markdown",
      "source": [
        "This is a simple example of how to retrieve data from wikipedia. This will be used later as part of an LLM RAG example."
      ],
      "metadata": {
        "id": "zVqP1colwsy8"
      }
    },
    {
      "cell_type": "code",
      "source": [
        "# wikipedia has it's own unique markdown which we need to remove\n",
        "!pip install mwparserfromhell\n"
      ],
      "metadata": {
        "colab": {
          "base_uri": "https://localhost:8080/"
        },
        "id": "b9fivg_zwG33",
        "outputId": "9ec87c73-e400-4537-d590-b075990fa187"
      },
      "execution_count": 1,
      "outputs": [
        {
          "output_type": "stream",
          "name": "stdout",
          "text": [
            "Requirement already satisfied: mwparserfromhell in /usr/local/lib/python3.10/dist-packages (0.6.6)\n"
          ]
        }
      ]
    },
    {
      "cell_type": "code",
      "execution_count": 3,
      "metadata": {
        "colab": {
          "base_uri": "https://localhost:8080/"
        },
        "id": "azD6AuxEmEAZ",
        "outputId": "01b3bda4-6c83-4434-9898-858feb001d24"
      },
      "outputs": [
        {
          "output_type": "stream",
          "name": "stdout",
          "text": [
            "----------------------------------------\n",
            "Title: Artificial intelligence\n",
            "Artificial intelligence (AI), in its broadest sense, is intelligence exhibited by machines, particularly computer systems. It is a field of research in computer science that develops and studies methods and software that enable machines to perceive their environment and use learning and intelligence to take actions that maximize their chances of achieving defined goals. Such machines may be called AIs.\n",
            "\n",
            "Some high-profile applications of AI include advanced web search engines (e.g., Google Search); recommendation systems (used by YouTube, Amazon, and Netflix); interacting via human speech (e.g., Google Assistant, Siri, and Alexa); autonomous vehicles (e.g., Waymo); generative and creative tools (e.g., ChatGPT, Apple Intelligence, and AI art); and superhuman play and analysis in strategy games (e.g., chess and Go). However, many AI applications are not perceived as AI: \"A lot of cutting edge AI has filtered into general applications, often without being called AI because once something becomes useful enough and common enough it's not labeled AI anymore.\"AI set to exceed human brain power  CNN.com (July 26, 2006)\n",
            "\n",
            "Alan Turing was the first person to conduct substantial research in the field that he called \"machine intelligence\". Artificial intelligence was founded as an academic discipline in 1956, by those now considered the founding fathers of AI: John McCarthy, Marvin Minksy, Nathaniel Rochester, and Claude Shannon. The field went through multiple cycles of optimism, followed by periods of disappointment and loss of funding, known as AI winter. Funding and interest vastly increased after 2012 when deep learning surpassed all previous AI techniques, and after 2017 with the transformer architecture. This led to the AI boom of the early 2020s, with companies, universities, and laboratories overwhelmingly based in the United States pioneering significant advances in artificial intelligence.\n",
            "\n",
            "The growing use of artificial intelligence in the 21st century is influencing a\n",
            "----------------------------------------\n",
            "Title: Generative artificial intelligence\n",
            "thumb|upright=1.2|Théâtre D'opéra Spatial, an image generated with Midjourney |alt=A detailed oil painting of figures in a futuristic opera scene\n",
            "\n",
            "Generative artificial intelligence (generative AI, GenAI, or GAI) is artificial intelligence capable of generating text, images, videos, or other data using generative models, often in response to prompts. Generative AI models learn the patterns and structure of their input training data and then generate new data that has similar characteristics.\n",
            "\n",
            "Improvements in transformer-based deep neural networks, particularly large language models (LLMs), enabled an AI boom of generative AI systems in the early 2020s. These include chatbots such as ChatGPT, Copilot, Gemini and LLaMA, text-to-image artificial intelligence image generation systems such as Stable Diffusion, Midjourney and DALL-E, and text-to-video AI generators such as Sora. Companies such as OpenAI, Anthropic, Microsoft, Google, and Baidu as well as numerous smaller firms have developed generative AI models.\n",
            "\n",
            "Generative AI has uses across a wide range of industries, including software development, healthcare, finance, entertainment, customer service, sales and marketing, art, writing, fashion, and product design. However, concerns have been raised about the potential misuse of generative AI such as cybercrime, the use of fake news or deepfakes to deceive or manipulate people, and the mass replacement of human jobs.\n",
            "\n",
            "History\n",
            "\n",
            "The academic discipline of artificial intelligence was established at a research workshop held at Dartmouth College in 1956 and has experienced several waves of advancement and optimism in the decades since. Since its inception, researchers in the field have raised philosophical and ethical arguments about the nature of the human mind and the consequences of creating artificial beings with human-like intelligence; these issues have previously been explored by myth, fiction and philosophy since antiquity. The concept of automated art dates back at\n",
            "----------------------------------------\n",
            "Title: A.I. Artificial Intelligence\n",
            "A.I. Artificial Intelligence (or simply A.I.) is a 2001 American science fiction film directed by Steven Spielberg. The screenplay by Spielberg and screen story by Ian Watson are loosely based on the 1969 short story \"Supertoys Last All Summer Long\" by Brian Aldiss. Set in a futuristic society, the film stars Haley Joel Osment as David, a childlike android uniquely programmed with the ability to love. Jude Law, Frances O'Connor, Brendan Gleeson and William Hurt star in supporting roles.\n",
            "\n",
            "Development of A.I. originally began after producer and director Stanley Kubrick acquired the rights to Aldiss's story in the early 1970s. Kubrick hired a series of writers, including Brian Aldiss, Bob Shaw, Ian Watson and Sara Maitland, until the mid-1990s. The film languished in development hell for years, partly because Kubrick felt that computer-generated imagery was not advanced enough to create the David character, which he believed no child actor would convincingly portray. In 1995, Kubrick handed A.I. to Spielberg, but the film did not gain momentum until Kubrick died in 1999. Spielberg remained close to Watson's treatment for the screenplay and dedicated the film to Kubrick.\n",
            "\n",
            "A.I. Artificial Intelligence was released on June 29, 2001, by Warner Bros. Pictures in North America. It received generally positive reviews from critics and grossed $235.9 million against a budget of $90–100 million. It was also nominated for Best Visual Effects and Best Original Score (for John Williams) at the 74th Academy Awards. In a 2016 BBC poll of 177 critics around the world, A.I. Artificial Intelligence was voted the eighty-third greatest film since 2000. It has since been called one of Spielberg's best works and one of the greatest films of the 21st century, and of all time.\n",
            "\n",
            "Plot\n",
            "In the 22nd century, rising sea levels from global warming have wiped out 99% of existing cities, reducing the world's population. Mecha humanoid robots, seemingly capable of complex thought but lacking emotions, \n",
            "----------------------------------------\n",
            "Title: Artificial general intelligence\n",
            "Artificial general intelligence (AGI) is a type of artificial intelligence (AI) that matches or surpasses human capabilities across a wide range of cognitive tasks. This is in contrast to narrow AI, which is designed for specific tasks. AGI is considered one of various definitions of strong AI.\n",
            "\n",
            "Creating AGI is a primary goal of AI research and of companies such as OpenAI and Meta. A 2020 survey identified 72 active AGI R&D projects spread across 37 countries.\n",
            "\n",
            "The timeline for achieving AGI remains a subject of ongoing debate among researchers and experts. , some argue that it may be possible in years or decades; others maintain it might take a century or longer; and a minority believe it may never be achieved. There is debate on the exact definition of AGI, and regarding whether modern large language models (LLMs) such as GPT-4 are early, incomplete forms of AGI. AGI is a common topic in science fiction and futures studies.\n",
            "\n",
            "Contention exists over the potential for AGI to pose a threat to humanity; for example, OpenAI claims to treat it as an existential risk, while others find the development of AGI to be too remote to present a risk.\n",
            "\n",
            " Terminology \n",
            "AGI is also known as strong AI,: Kurzweil describes strong AI as \"machine intelligence with the full range of human intelligence.\" full AI, human-level AI or general intelligent action. However, some academic sources reserve the term \"strong AI\" for computer programs that experience sentience or consciousness. In contrast, weak AI (or narrow AI) is able to solve one specific problem, but lacks general cognitive abilities. Some academic sources use \"weak AI\" to refer more broadly to any programs that neither experience consciousness nor have a mind in the same sense as humans.\n",
            "\n",
            "Related concepts include artificial superintelligence and transformative AI. An artificial superintelligence (ASI) is a hypothetical type of AGI that is much more generally intelligent than humans, while the notion of transformative AI relates t\n",
            "----------------------------------------\n",
            "Title: Applications of artificial intelligence\n",
            "Artificial intelligence (AI) has been used in applications throughout industry and academia. Similar to electricity or computers, AI serves as a general-purpose technology that has numerous applications. Its applications span language translation, image recognition, decision-making, credit scoring, e-commerce and various other domains. AI which accommodates such technologies as machines being equipped perceive, understand, act and learning a scientific discipline.\n",
            "\n",
            " Internet and e-commerce \n",
            " Recommendation systems \n",
            "\n",
            "A recommendation system predicts the rating or preference a user would give to an item. Artificial intelligence recommendation systems are designed to offer suggestions based on previous behavior. These systems have been used by companies such as Netflix, Amazon, Instagram and YouTube, where they generate personalized playlists, product suggestions, and video recommendations.\n",
            "\n",
            " Web feeds and posts \n",
            "Machine learning is also used in web feeds such as for determining which posts should show up in social media feeds. Various types of social media analysis also make use of machine learning and there is research into its use for (semi-)automated tagging/enhancement/correction of online misinformation and related filter bubbles.\n",
            "\n",
            " Targeted advertising and increasing internet engagement \n",
            "\n",
            "AI is used to target web advertisements to those most likely to click or engage in them. It is also used to increase time spent on a website by selecting attractive content for the viewer. It can predict or generalize the behavior of customers from their digital footprints. Both AdSense and Facebook use AI for advertising. Online gambling companies use AI to improve customer targeting.\n",
            "\n",
            "Personality computing AI models add psychological targeting to more traditional social demographics or behavioral targeting. AI has been used to customize shopping options and personalize offers.\n",
            "\n",
            " Virtual assistants \n",
            "\n",
            "Intelligent personal assistants use AI to understand many natural language re\n",
            "----------------------------------------\n",
            "Title: Ethics of artificial intelligence\n",
            "The ethics of artificial intelligence covers a broad range of topics within the field that are considered to have particular ethical stakes. This includes algorithmic biases, fairness, automated decision-making, accountability, privacy, and regulation. \n",
            "It also covers various emerging or potential future challenges such as machine ethics (how to make machines that behave ethically), lethal autonomous weapon systems, arms race dynamics, AI safety and alignment, technological unemployment, AI-enabled misinformation, how to treat certain AI systems if they have a moral status (AI welfare and rights), artificial superintelligence and existential risks. \n",
            "\n",
            "Some application areas may also have particularly important ethical implications, like healthcare, education, criminal justice, or the military.\n",
            "\n",
            " Machine ethics \n",
            "\n",
            "Machine ethics (or machine morality) is the field of research concerned with designing Artificial Moral Agents (AMAs), robots or artificially intelligent computers that behave morally or as though moral. To account for the nature of these agents, it has been suggested to consider certain philosophical ideas, like the standard characterizations of agency, rational agency, moral agency, and artificial agency, which are related to the concept of AMAs.\n",
            "\n",
            "There are discussions on creating tests to see if an AI is capable of making ethical decisions. Alan Winfield concludes that the Turing test is flawed and the requirement for an AI to pass the test is too low. A proposed alternative test is one called the Ethical Turing Test, which would improve on the current test by having multiple judges decide if the AI's decision is ethical or unethical. Neuromorphic AI could be one way to create morally capable robots, as it aims to process information similarly to humans, nonlinearly and with millions of interconnected artificial neurons. Similarly, whole-brain emulation (scanning a brain and simulating it on digital hardware) could also in principle lead to human-like robo\n",
            "----------------------------------------\n",
            "Title: History of artificial intelligence\n",
            "The history of artificial intelligence (AI) began in antiquity, with myths, stories and rumors of artificial beings endowed with intelligence or consciousness by master craftsmen. The seeds of modern AI were planted by philosophers who attempted to describe the process of human thinking as the mechanical manipulation of symbols. This work culminated in the invention of the programmable digital computer in the 1940s, a machine based on the abstract essence of mathematical reasoning. This device and the ideas behind it inspired a handful of scientists to begin seriously discussing the possibility of building an electronic brain.\n",
            "\n",
            "The field of AI research was founded at a workshop held on the campus of Dartmouth College in the U.S. during the summer of 1956. Those who attended would become the leaders of AI research for decades. Many of them predicted that a machine as intelligent as a human being would exist in no more than a generation, and they were given millions of dollars to make this vision come true.\n",
            "\n",
            "Eventually, it became obvious that researchers had grossly underestimated the difficulty of the project. In 1974, in response to the criticism from James Lighthill and ongoing pressure from the U.S. Congress, the U.S. and British Governments stopped funding undirected research into artificial intelligence. Seven years later, a visionary initiative by the Japanese Government inspired governments and industry to provide AI with billions of dollars, but by the late 1980s the investors became disillusioned and withdrew funding again.  The difficult years that followed would later be known as an \"AI winter\". AI was criticized in the press and avoided by industry until the mid-2000s, but research and funding continued to grow under other names.  \n",
            "\n",
            "In the 1990s and early 2000s machine learning was applied to many problems in academia and industry. The success was due to the availability powerful computer hardware, the collection of immense data sets and the application o\n",
            "----------------------------------------\n",
            "Title: Artificial intelligence in healthcare\n",
            "thumb|X-ray of a hand, with automatic calculation of bone age by a computer software\n",
            "\n",
            "Artificial intelligence in healthcare is the application of artificial intelligence (AI) to copy human cognition in the analysis, presentation, and understanding of complex medical and health care data, or to exceed human capabilities by providing new ways to diagnose, treat, or prevent disease. Specifically, AI is the ability of computer algorithms to arrive at approximate conclusions based solely on input data.\n",
            "\n",
            "The primary aim of health-related AI applications is to analyze relationships between clinical data and patient outcomes. AI programs are applied to practices such as diagnostics, treatment protocol development, drug development, personalized medicine, and patient monitoring and care. What differentiates AI technology from traditional technologies in healthcare is the ability to gather larger and more diverse data, process it, and produce a well-defined output to the end-user. AI does this through machine learning algorithms and deep learning. Because radiographs are the most common imaging tests conducted in most radiology departments, the potential for AI to help with triage and interpretation of traditional radiographs (X-ray pictures) is particularly noteworthy. These processes can recognize patterns in behavior and create their own logic. To gain useful insights and predictions, machine learning models must be trained using extensive amounts of input data. AI algorithms behave differently from humans in two ways: (1) algorithms are literal: once a goal is set, the algorithm learns exclusively from the input data and can only understand what it has been programmed to do, (2) and some deep learning algorithms are black boxes; algorithms can predict with extreme precision, but offer little to no comprehensible explanation to the logic behind its decisions aside from the data and type of algorithm used.\n",
            "\n",
            "As widespread use of AI in healthcare is relatively new, research i\n",
            "----------------------------------------\n",
            "Title: Hallucination (artificial intelligence)\n",
            "upright=1.5|thumbtime=6|thumb|A Sora-generated video of the Glenfinnan Viaduct, incorrectly showing a second track where the real viaduct has only one, and second chimney on its apparent interpretation of the train The Jacobite.\n",
            "In the field of artificial intelligence (AI), a hallucination or artificial hallucination (also called bullshitting, confabulation or delusion) is a response generated by AI which contains false or misleading information presented as fact. This term draws a loose analogy with human psychology, where hallucination typically involves false percepts. However, there is a key difference: AI hallucination is associated with unjustified responses or beliefs rather than perceptual experiences.\n",
            "\n",
            "For example, a chatbot powered by large language models (LLMs), like ChatGPT, may embed plausible-sounding random falsehoods within its generated content. Researchers have recognized this issue, and by 2023, analysts estimated that chatbots hallucinate as much as 27% of the time, with factual errors present in 46% of their responses. Detecting and mitigating these hallucinations pose significant challenges for practical deployment and reliability of LLMs in real-world scenarios. Some researchers believe the specific term \"AI hallucination\" unreasonably anthropomorphizes computers.\n",
            "\n",
            " Term \n",
            "\n",
            " Origin \n",
            "\n",
            "In 1995, Stephen Thaler introduced the concept of \"virtual input phenomena\" in the context of neural networks and artificial intelligence.   This idea is closely tied to his work on the Creativity Machine. Virtual input phenomena refer to the spontaneous generation of new ideas or concepts within a neural network, akin to hallucinations, without explicit external inputs. Thaler's key work on this topic is encapsulated in his U.S. patent \"Device for the Autonomous Generation of Useful Information\" (Patent No. US 5,659,666), granted in 1997. This patent describes a neural network system that can autonomously generate new information by simulating virtual inputs. The\n",
            "----------------------------------------\n",
            "Title: Artificial Intelligence Act\n",
            "The Artificial Intelligence Act (AI Act) is a European Union regulation concerning artificial intelligence (AI). It establishes a common regulatory and legal framework for AI within the European Union (EU). It came into force on 1 August 2024, with provisions coming into operation gradually over the following 6 to 36 months.\n",
            "\n",
            "It covers all types of AI across a broad range of sectors, with exceptions for AI systems used solely for military, national security, research and non-professional purposes. As a piece of product regulation, it does not confer rights on individuals, but regulates the providers of AI systems and entities using AI in a professional context.\n",
            "\n",
            "The Act classifies non-exempt AI applications by their risk of causing harm. There are four levels – unacceptable, high, limited, minimal – plus an additional category for general-purpose AI. \n",
            "\n",
            " Applications with unacceptable risks are banned. \n",
            " High-risk applications must comply with security, transparency and quality obligations, and undergo conformity assessments. \n",
            " Limited-risk applications only have transparency obligations.\n",
            " Minimal-risk applications are not regulated. \n",
            "\n",
            "For general-purpose AI, transparency requirements are imposed, with additional evaluations for high-capability models.\n",
            "\n",
            "The Act also creates a European Artificial Intelligence Board to promote national cooperation and ensure compliance with the regulation. Like the EU's General Data Protection Regulation, the Act can apply extraterritorially to providers from outside the EU if they have users within the EU.\n",
            "\n",
            "Proposed by the European Commission on 21 April 2021, it passed the European Parliament on 13 March 2024, and was unanimously approved by the EU Council on 21 May 2024. The draft Act was revised to address the rise in popularity of generative artificial intelligence systems, such as ChatGPT, whose general-purpose capabilities did not fit the main framework. More restrictive regulations are planned for powerful generative AI systems\n"
          ]
        }
      ],
      "source": [
        "import requests\n",
        "import mwparserfromhell\n",
        "\n",
        "def search_wikipedia(query):\n",
        "    search_url = f\"https://en.wikipedia.org/w/api.php?action=query&list=search&srsearch={query}&format=json\"\n",
        "    response = requests.get(search_url)\n",
        "    data = response.json()\n",
        "    page_titles = [result['title'] for result in data['query']['search']]\n",
        "    return page_titles\n",
        "\n",
        "def fetch_wikipedia_content(title):\n",
        "    content_url = f\"https://en.wikipedia.org/w/api.php?action=query&prop=revisions&titles={title}&rvprop=content&format=json\"\n",
        "    response = requests.get(content_url)\n",
        "    data = response.json()\n",
        "    pages = data['query']['pages']\n",
        "    page = next(iter(pages.values()))\n",
        "    content = page['revisions'][0]['*']\n",
        "    return content\n",
        "\n",
        "# Example usage\n",
        "query = \"Artificial Intelligence\"\n",
        "titles = search_wikipedia(query)\n",
        "\n",
        "# Loop through the results printing the titles and text from the wiki article.\n",
        "for title in titles:\n",
        "    print(\"----------------------------------------\")\n",
        "    print(f\"Title: {title}\")\n",
        "    content = fetch_wikipedia_content(title)\n",
        "\n",
        "    # wikipedia uses it's own markdown, which we need to remove\n",
        "    wikicode = mwparserfromhell.parse(content)\n",
        "    text = wikicode.strip_code()\n",
        "\n",
        "    print(text[:2000]) # print the first 2000 characters of the text\n"
      ]
    }
  ]
}